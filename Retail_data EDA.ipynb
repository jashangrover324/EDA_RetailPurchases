{
 "cells": [
  {
   "cell_type": "code",
   "execution_count": 2,
   "id": "91129b91-5a9d-43ad-a940-91c29fb0497f",
   "metadata": {},
   "outputs": [],
   "source": [
    "import numpy as np\n",
    "import pandas as pd\n",
    "import matplotlib.pyplot as plt\n",
    "%matplotlib inline\n",
    "import seaborn as sns\n"
   ]
  },
  {
   "cell_type": "code",
   "execution_count": null,
   "id": "e40caac1-c748-42d6-8acd-cb7e67f3ee6d",
   "metadata": {},
   "outputs": [],
   "source": [
    "df=pd.read_csv('retail_data.csv')"
   ]
  },
  {
   "cell_type": "code",
   "execution_count": null,
   "id": "e7b0d777-4a71-46a1-82e1-90b1b75110cc",
   "metadata": {},
   "outputs": [],
   "source": [
    "df.shape"
   ]
  },
  {
   "cell_type": "code",
   "execution_count": null,
   "id": "ec77be0f-3cc7-4c6e-9a92-234edc777af0",
   "metadata": {},
   "outputs": [],
   "source": [
    "df.head(3)"
   ]
  },
  {
   "cell_type": "code",
   "execution_count": null,
   "id": "d6039349-c775-4f42-9da4-da7e7bad7679",
   "metadata": {},
   "outputs": [],
   "source": [
    "df.info()"
   ]
  },
  {
   "cell_type": "code",
   "execution_count": null,
   "id": "63502d10-5df5-4c86-ad45-67e4feb618af",
   "metadata": {},
   "outputs": [],
   "source": [
    "#DATA CLEANING\n",
    "\n",
    "\n",
    "ds=df.drop(columns=['Transaction_ID','Name','Email','Phone','Address','Zipcode','Order_Status'])\n",
    "#Dropping the columns that are unnecessary with respect to big picture and also considering that Order_Status is complete for all processes."
   ]
  },
  {
   "cell_type": "code",
   "execution_count": null,
   "id": "3b1357e5-094b-45e9-b4b1-76fb806d8ceb",
   "metadata": {},
   "outputs": [],
   "source": [
    "ds.isnull().sum()"
   ]
  },
  {
   "cell_type": "code",
   "execution_count": null,
   "id": "bd939896-21cd-4e0d-9c5f-a59e89e9e6cf",
   "metadata": {},
   "outputs": [],
   "source": [
    "columnsToFill=['Age','Total_Purchases','Amount','Total_Amount','Ratings']\n",
    "for column in columnsToFill:\n",
    "    ds[column]=ds[column].fillna(ds[column].mean())\n",
    "    ds[column]=ds[column].astype('int')    \n",
    "#filling all null values in float64 columns with their respective mean values and changing them to whole numbers for simplicity."
   ]
  },
  {
   "cell_type": "code",
   "execution_count": null,
   "id": "7e64ade8-dd31-40ba-bf6a-37aac2289adc",
   "metadata": {},
   "outputs": [],
   "source": [
    "ds.isnull().sum()\n",
    "#checking for null values"
   ]
  },
  {
   "cell_type": "code",
   "execution_count": null,
   "id": "ff32d8c7-9dde-4ccd-86f4-1e97255536b5",
   "metadata": {},
   "outputs": [],
   "source": [
    "ds.dropna(inplace=True)\n",
    "#dropping all rows that contain null values"
   ]
  },
  {
   "cell_type": "code",
   "execution_count": null,
   "id": "7cdc691c-dcf0-4628-b043-3b5bde708c3c",
   "metadata": {},
   "outputs": [],
   "source": [
    "ds.isnull().sum()\n",
    "#checking for null values, hoping for a cleaned data"
   ]
  },
  {
   "cell_type": "code",
   "execution_count": null,
   "id": "dd912580-d468-4ece-8974-4785325c7193",
   "metadata": {},
   "outputs": [],
   "source": [
    "ds.shape\n",
    "#checking shape of cleaned data"
   ]
  },
  {
   "cell_type": "code",
   "execution_count": null,
   "id": "d4641063-9857-4849-93df-9dbacd7f9fde",
   "metadata": {},
   "outputs": [],
   "source": [
    "df.shape[0]-ds.shape[0]\n",
    "#check for number of rows that got deleted in DATA CLEANING"
   ]
  },
  {
   "cell_type": "code",
   "execution_count": null,
   "id": "59c447c8-3b36-4d84-81cb-8dccdefb3e93",
   "metadata": {},
   "outputs": [],
   "source": [
    "ds.head(3)"
   ]
  },
  {
   "cell_type": "code",
   "execution_count": null,
   "id": "e50a01f1-8581-496b-b76f-b4044ceec07e",
   "metadata": {},
   "outputs": [],
   "source": [
    "ds[['Age','Total_Purchases','Amount','Total_Amount','Ratings']].describe()\n",
    "#basic parameters of cleaned data"
   ]
  },
  {
   "cell_type": "code",
   "execution_count": null,
   "id": "aa614b85-eb05-467d-befe-a3028cc598dd",
   "metadata": {},
   "outputs": [],
   "source": [
    "#EXPLORATORY DATA ANALYSIS"
   ]
  },
  {
   "cell_type": "code",
   "execution_count": null,
   "id": "9c5ca95a-2520-449a-b9d1-bcbb262445ed",
   "metadata": {},
   "outputs": [],
   "source": [
    "#Plotting graph for Gender\n",
    "sns.set(rc={'figure.figsize':(3, 5)})\n",
    "ax = sns.countplot(x = 'Gender' ,data = ds)\n",
    "for bars in ax. containers:\n",
    "  ax. bar_label(bars) "
   ]
  },
  {
   "cell_type": "code",
   "execution_count": null,
   "id": "82dff47f-b39f-45f0-963c-e94bd63c8569",
   "metadata": {},
   "outputs": [],
   "source": [
    "#Plotting graph for Total_Amount vs Gender\n",
    "sns.set(rc={'figure.figsize':(3, 5)})\n",
    "sales_gen = ds.groupby(['Gender'], as_index=False)['Total_Amount'].sum().sort_values(by='Total_Amount',ascending=False)\n",
    "sns.barplot(x ='Gender',y='Total_Amount',data =sales_gen)"
   ]
  },
  {
   "cell_type": "raw",
   "id": "2a6f3ed8-9add-441e-8ffe-491c086a3200",
   "metadata": {},
   "source": [
    "Inference1: Male buyers are more and they have spent more money than female."
   ]
  },
  {
   "cell_type": "code",
   "execution_count": null,
   "id": "8804ee3e-0477-4d8b-bd17-efbe0e431d67",
   "metadata": {},
   "outputs": [],
   "source": [
    "#Age\n",
    "\n",
    "sns.set(rc={'figure.figsize':(35, 5)})\n",
    "ax = sns.countplot(x = 'Age' ,hue='Gender', data = ds)\n",
    "for bars in ax. containers:\n",
    "  ax. bar_label(bars) "
   ]
  },
  {
   "cell_type": "code",
   "execution_count": null,
   "id": "2004af7e-7ded-4d4c-ad41-aa26b9dbd368",
   "metadata": {},
   "outputs": [],
   "source": [
    "sales_gen = ds.groupby(['Age'], as_index=False)['Total_Amount'].sum().sort_values(by='Total_Amount',ascending=False)\n",
    "sns.barplot(x ='Age',y='Total_Amount',data =sales_gen)"
   ]
  },
  {
   "cell_type": "raw",
   "id": "6bb39c1a-5b34-4973-aea1-0dde9823a3d2",
   "metadata": {},
   "source": [
    "Inference2: Buying is highest among younger people aged 19-26 (least at 25), with noticeable peaks at ages 34 and 46 and male buyers being more than female in every age."
   ]
  },
  {
   "cell_type": "code",
   "execution_count": null,
   "id": "1d3b2c31-d673-4f89-92ea-00b94a2f3998",
   "metadata": {},
   "outputs": [],
   "source": [
    "sns.set(rc={'figure.figsize':(8, 5)})\n",
    "\n",
    "#CountryVsTotal_Purchases\n",
    "sales_gen = ds.groupby(['Country'], as_index=False)['Total_Purchases'].sum().sort_values(by='Total_Purchases',ascending=False)\n",
    "sns.barplot(x ='Country',y='Total_Purchases',data =sales_gen)\n",
    "\n",
    "\n"
   ]
  },
  {
   "cell_type": "code",
   "execution_count": null,
   "id": "540891bb-5c66-4af1-a61c-497992f6ccc3",
   "metadata": {},
   "outputs": [],
   "source": [
    "sns.set(rc={'figure.figsize':(8, 5)})\n",
    "\n",
    "#CountryVsTotal_Amount\n",
    "sales_gen = ds.groupby(['Country'], as_index=False)['Total_Amount'].sum().sort_values(by='Total_Amount',ascending=False)\n",
    "sns.barplot(x ='Country',y='Total_Amount',data =sales_gen)"
   ]
  },
  {
   "cell_type": "raw",
   "id": "5d693de0-c559-4305-b14e-5ee2b6ad9ab4",
   "metadata": {},
   "source": [
    "Inference3: Total Purchases and Total Amount follow same trend accross countries with USA being highest."
   ]
  },
  {
   "cell_type": "code",
   "execution_count": null,
   "id": "fb2de19c-49b4-40b3-92d3-70f7d0255aee",
   "metadata": {},
   "outputs": [],
   "source": [
    "sns.set(rc={'figure.figsize':(25, 5)})\n",
    "\n",
    "#StateVsTotal_Purchases\n",
    "sales_gen = ds.groupby(['State'], as_index=False)['Total_Purchases'].sum().sort_values(by='Total_Purchases',ascending=False).head(20)\n",
    "sns.barplot(x ='State',y='Total_Purchases',data =sales_gen)"
   ]
  },
  {
   "cell_type": "code",
   "execution_count": null,
   "id": "4ea93114-aeca-42f2-a5cf-033f164d4b2f",
   "metadata": {},
   "outputs": [],
   "source": [
    "sns.set(rc={'figure.figsize':(25, 5)})\n",
    "\n",
    "#StateVsTotal_Amount\n",
    "sales_gen = ds.groupby(['State'], as_index=False)['Total_Amount'].sum().sort_values(by='Total_Amount',ascending=False).head(20)\n",
    "sns.barplot(x ='State',y='Total_Amount',data =sales_gen)"
   ]
  },
  {
   "cell_type": "raw",
   "id": "57c13eca-cac8-439a-88f9-cf0f0cdd8fb9",
   "metadata": {},
   "source": [
    "Inference4: States follow same trend for Total Purchases and Total Amount only upto top 9 states and the first USA state appears at fifth position despite USA being the largest buyer."
   ]
  },
  {
   "cell_type": "code",
   "execution_count": null,
   "id": "8467fcba-0379-4ae8-93fa-ef34a511af75",
   "metadata": {},
   "outputs": [],
   "source": [
    "ds.columns"
   ]
  },
  {
   "cell_type": "code",
   "execution_count": null,
   "id": "7813a3c2-bce2-4a54-a1a6-f5a6c3d17736",
   "metadata": {},
   "outputs": [],
   "source": [
    "sns.set(rc={'figure.figsize':(3,5)})\n",
    "\n",
    "#IncomeVsTotal_Amount_Average\n",
    "sales_gen = ds.groupby(['Income'], as_index=False)['Total_Amount'].mean().sort_values(by='Total_Amount',ascending=False)\n",
    "sns.barplot(x ='Income',y='Total_Amount',data =sales_gen)\n",
    "plt.xlabel('Income Category')\n",
    "plt.ylabel('Average Total Amount Spent')"
   ]
  },
  {
   "cell_type": "raw",
   "id": "903912b1-d6e8-425a-8827-6cd379334562",
   "metadata": {},
   "source": [
    "Inference5: Average total amount is almost same for all kinds of buyers. People from All income categories spend almost same on an average."
   ]
  },
  {
   "cell_type": "code",
   "execution_count": null,
   "id": "d62d4216-35a4-4fdc-8d51-cb7770346874",
   "metadata": {},
   "outputs": [],
   "source": [
    "#Product_Category\n",
    "sns.set(rc={'figure.figsize':(7,5)})\n",
    "ax = sns.countplot(x = 'Product_Category' ,data = ds)\n",
    "for bars in ax. containers:\n",
    "  ax. bar_label(bars) "
   ]
  },
  {
   "cell_type": "code",
   "execution_count": null,
   "id": "abddbfb5-0b75-4b16-8f2f-f83c5b8a6cc3",
   "metadata": {},
   "outputs": [],
   "source": [
    "#Product_CategoryVsTotal_Amount\n",
    "sales_gen = ds.groupby(['Product_Category'], as_index=False)['Total_Amount'].sum().sort_values(by='Total_Amount',ascending=False)\n",
    "sns.barplot(x ='Product_Category',y='Total_Amount',data =sales_gen)"
   ]
  },
  {
   "cell_type": "raw",
   "id": "30347e6d-5ca4-49b3-8493-87f56cc67c9c",
   "metadata": {},
   "source": [
    "Inference6: People spend most on Electronics, then on grocery and then on Clothing, Books and Home decor."
   ]
  },
  {
   "cell_type": "code",
   "execution_count": null,
   "id": "c4a064d4-35a7-4b87-b390-00661ff20fb6",
   "metadata": {},
   "outputs": [],
   "source": [
    "#Product_TypeVsTotal_Purchases\n",
    "sns.set(rc={'figure.figsize':(15,5)})\n",
    "sales_gen = ds.groupby(['Product_Type'], as_index=False)['Total_Purchases'].sum().sort_values(by='Total_Purchases',ascending=False).head(10)\n",
    "ax=sns.barplot(x ='Product_Type',y='Total_Purchases',data =sales_gen)"
   ]
  },
  {
   "cell_type": "code",
   "execution_count": null,
   "id": "499b7bb7-55c3-42e5-b56c-2d69361f9c49",
   "metadata": {},
   "outputs": [],
   "source": [
    "sales_gen = ds.groupby(['Product_Type'], as_index=False)['Total_Amount'].sum().sort_values(by='Total_Amount',ascending=False).head(10)\n",
    "ax=sns.barplot(x ='Product_Type',y='Total_Amount',data =sales_gen)"
   ]
  },
  {
   "cell_type": "code",
   "execution_count": null,
   "id": "9f699231-ba35-4f1a-8ceb-7d0661246706",
   "metadata": {},
   "outputs": [],
   "source": [
    "#Product_BrandVsTotal_Amount\n",
    "sns.set(rc={'figure.figsize':(25,5)})\n",
    "sales_gen = ds.groupby(['Product_Brand'], as_index=False)['Total_Amount'].sum().sort_values(by='Total_Amount',ascending=False)\n",
    "ax=sns.barplot(x ='Product_Brand',y='Total_Amount',data =sales_gen)\n",
    " "
   ]
  },
  {
   "cell_type": "raw",
   "id": "02661dd8-3583-4051-8dd7-c827dfde6ebf",
   "metadata": {},
   "source": [
    "Inference7: Water is the highest selling and revenue-making product, and Pepsi is highest revenue making brand."
   ]
  },
  {
   "cell_type": "code",
   "execution_count": null,
   "id": "bb46509d-c239-4cbd-9a4f-60d23b5ef209",
   "metadata": {},
   "outputs": [],
   "source": [
    "ds.columns"
   ]
  },
  {
   "cell_type": "code",
   "execution_count": null,
   "id": "d1d76332-5640-44ff-b0b4-737ae759bf94",
   "metadata": {},
   "outputs": [],
   "source": [
    "#Month\n",
    "ax = sns.countplot(x = 'Month' ,data = ds)\n",
    "for bars in ax. containers:\n",
    "  ax. bar_label(bars) "
   ]
  },
  {
   "cell_type": "code",
   "execution_count": null,
   "id": "097ffe10-933c-4b51-b048-0648b6fec9f2",
   "metadata": {
    "scrolled": true
   },
   "outputs": [],
   "source": [
    "sales_gen = ds.groupby(['Month'], as_index=False)['Total_Amount'].sum().sort_values(by='Total_Amount',ascending=False)\n",
    "ax=sns.barplot(x ='Month',y='Total_Amount',data =sales_gen)"
   ]
  },
  {
   "cell_type": "code",
   "execution_count": null,
   "id": "97529f68-3b5c-4103-9f2b-b33f67bc2def",
   "metadata": {},
   "outputs": [],
   "source": []
  },
  {
   "cell_type": "raw",
   "id": "57c612b3-1066-44f9-8244-456b4d69fdd6",
   "metadata": {},
   "source": [
    "Inference8: April is the peak season of shopping"
   ]
  },
  {
   "cell_type": "code",
   "execution_count": null,
   "id": "f35177ae-41e3-4ed0-a7a2-edb0b9564d3b",
   "metadata": {},
   "outputs": [],
   "source": []
  },
  {
   "cell_type": "code",
   "execution_count": null,
   "id": "c98704ae-9bd5-4553-83d7-88a590c427c4",
   "metadata": {},
   "outputs": [],
   "source": [
    "#Feedback\n",
    "sns.set(rc={'figure.figsize':(5,5)})\n",
    "ax = sns.countplot(x = 'Feedback' ,data = ds)\n",
    "for bars in ax. containers:\n",
    "  ax. bar_label(bars) "
   ]
  },
  {
   "cell_type": "code",
   "execution_count": null,
   "id": "874362be-6de5-45d3-97b2-f112ef6832d0",
   "metadata": {},
   "outputs": [],
   "source": [
    "#Ratings\n",
    "sns.set(rc={'figure.figsize':(5,5)})\n",
    "ax = sns.countplot(x = 'Ratings' ,data = ds)\n",
    "for bars in ax. containers:\n",
    "  ax. bar_label(bars) "
   ]
  },
  {
   "cell_type": "raw",
   "id": "c9dbd0e3-5fe4-4414-b5fc-fef899f1c38b",
   "metadata": {},
   "source": [
    "Inference9: Significant portion of buyers consider the product to be average and less"
   ]
  },
  {
   "cell_type": "code",
   "execution_count": null,
   "id": "b64488f3-9615-4226-a7e1-fe932a173191",
   "metadata": {},
   "outputs": [],
   "source": []
  },
  {
   "cell_type": "code",
   "execution_count": null,
   "id": "852612e6-65f4-45bf-a299-fe2fc5a4c1a1",
   "metadata": {},
   "outputs": [],
   "source": [
    "#Shipping_Method\n",
    "sns.set(rc={'figure.figsize':(5, 5)})\n",
    "ax = sns.countplot(x = 'Shipping_Method' , data = ds)\n",
    "for bars in ax. containers:\n",
    "  ax. bar_label(bars) "
   ]
  },
  {
   "cell_type": "code",
   "execution_count": null,
   "id": "83dc7392-137d-480e-b3e7-4277caf8ccb6",
   "metadata": {},
   "outputs": [],
   "source": []
  },
  {
   "cell_type": "code",
   "execution_count": null,
   "id": "9ca91dc1-736f-44b4-bda8-7905c543650c",
   "metadata": {},
   "outputs": [],
   "source": []
  },
  {
   "cell_type": "code",
   "execution_count": null,
   "id": "ac212730-8506-4089-9158-91b8f6ce7907",
   "metadata": {},
   "outputs": [],
   "source": [
    "#Payment_Method\n",
    "sns.set(rc={'figure.figsize':(30, 5)})\n",
    "ax = sns.countplot(x = 'Shipping_Method' ,hue='Payment_Method', data = ds)\n",
    "for bars in ax. containers:\n",
    "  ax. bar_label(bars) "
   ]
  },
  {
   "cell_type": "raw",
   "id": "67ffb197-a27c-46a7-866f-0f202ab5e8ac",
   "metadata": {},
   "source": [
    "Inference10: All kinds of shipping methods are equally opted by buyers with Credit Card being most opted payment method in every scenario."
   ]
  },
  {
   "cell_type": "code",
   "execution_count": null,
   "id": "fcd2e25a-0c7f-42ff-a0f8-087ec76db35e",
   "metadata": {
    "scrolled": true
   },
   "outputs": [],
   "source": [
    "ds.head(1)"
   ]
  },
  {
   "cell_type": "code",
   "execution_count": null,
   "id": "a0f90c93-bb73-41e7-bc5f-19054cba78c1",
   "metadata": {},
   "outputs": [],
   "source": []
  },
  {
   "cell_type": "code",
   "execution_count": null,
   "id": "1a0a9b84-53da-4da9-bc91-88290b044b35",
   "metadata": {},
   "outputs": [],
   "source": []
  }
 ],
 "metadata": {
  "kernelspec": {
   "display_name": "Python 3 (ipykernel)",
   "language": "python",
   "name": "python3"
  },
  "language_info": {
   "codemirror_mode": {
    "name": "ipython",
    "version": 3
   },
   "file_extension": ".py",
   "mimetype": "text/x-python",
   "name": "python",
   "nbconvert_exporter": "python",
   "pygments_lexer": "ipython3",
   "version": "3.12.3"
  }
 },
 "nbformat": 4,
 "nbformat_minor": 5
}
